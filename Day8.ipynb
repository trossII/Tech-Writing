{
 "cells": [
  {
   "cell_type": "markdown",
   "metadata": {},
   "source": [
    "April 4 2020"
   ]
  },
  {
   "cell_type": "markdown",
   "metadata": {},
   "source": [
    "In this last lesson I learned about building Recommendation Systems. One of the best ways to simplify your data to compare it is to use Alternating Least squares to reduce the matrices of data. Alternating least squares works the same way as ordinary least squares except it breaks the data into two matrices P and Q, and holds one constant while it reduces the other and then switches until they converge."
   ]
  },
  {
   "cell_type": "markdown",
   "metadata": {},
   "source": [
    "To use ALS you just import it from Pyspark"
   ]
  },
  {
   "cell_type": "code",
   "execution_count": null,
   "metadata": {},
   "outputs": [],
   "source": [
    "from pyspark.ml.recommendation import ALS"
   ]
  },
  {
   "cell_type": "markdown",
   "metadata": {},
   "source": [
    "Then fit it to your data and transform it"
   ]
  },
  {
   "cell_type": "code",
   "execution_count": null,
   "metadata": {},
   "outputs": [],
   "source": [
    "model=als.fit(train)\n",
    "predictions=model.transform(test)"
   ]
  },
  {
   "cell_type": "markdown",
   "metadata": {},
   "source": [
    "To use with a column of strings you will need to move them to the index"
   ]
  },
  {
   "cell_type": "code",
   "execution_count": null,
   "metadata": {},
   "outputs": [],
   "source": []
  }
 ],
 "metadata": {
  "kernelspec": {
   "display_name": "learn-env",
   "language": "python",
   "name": "learn-env"
  },
  "language_info": {
   "codemirror_mode": {
    "name": "ipython",
    "version": 3
   },
   "file_extension": ".py",
   "mimetype": "text/x-python",
   "name": "python",
   "nbconvert_exporter": "python",
   "pygments_lexer": "ipython3",
   "version": "3.6.9"
  }
 },
 "nbformat": 4,
 "nbformat_minor": 4
}
