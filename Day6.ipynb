{
 "cells": [
  {
   "cell_type": "markdown",
   "metadata": {},
   "source": [
    "April 2 2020"
   ]
  },
  {
   "cell_type": "markdown",
   "metadata": {},
   "source": [
    "Todays topic will be Principle Component Analysis or PCA for short. PCA is another way of explaining your data by converting the values to into linearly uncorrelated values called Principle Components. How you end up with these PC's in concept is that you would seperate all of your columns into x~y plots and then center your data on the origin. From there you would find the best fit line by maximizing the sum of the square distances from the points to the origin. Now your data points will be the linear combination of variables. Sweet now we have PC1, but we still need the rest of them. The next PC on a 2 dimentional graph would be the perpendicular line and as it grows into more dimentions it would be orthoginal lines. Also PC1 will be the most important and will explain your data the most. But thank goodness we have Sklearn for all of this!"
   ]
  },
  {
   "cell_type": "markdown",
   "metadata": {},
   "source": [
    "To make a PCA in python all you need to do is import your tools, scale your values and fit them to the function!"
   ]
  },
  {
   "cell_type": "code",
   "execution_count": 3,
   "metadata": {},
   "outputs": [
    {
     "data": {
      "text/plain": [
       "PCA(copy=True, iterated_power='auto', n_components=0.9, random_state=42,\n",
       "    svd_solver='auto', tol=0.0, whiten=False)"
      ]
     },
     "execution_count": 3,
     "metadata": {},
     "output_type": "execute_result"
    }
   ],
   "source": [
    "import pandas as pd\n",
    "from sklearn.datasets import load_wine\n",
    "from sklearn.decomposition import PCA\n",
    "from sklearn.preprocessing import StandardScaler\n",
    "X, y = load_wine(return_X_y=True)\n",
    "\n",
    "wine = load_wine()\n",
    "X = pd.DataFrame(X, columns=wine.feature_names)\n",
    "y = pd.Series(y)\n",
    "y.name = 'class'\n",
    "\n",
    "ss = StandardScaler()\n",
    "ss_X = ss.fit_transform(X)\n",
    "\n",
    "\n",
    "wine_pca = PCA(n_components=0.9,random_state=42)\n",
    "wine_pca.fit(ss_X)"
   ]
  },
  {
   "cell_type": "code",
   "execution_count": null,
   "metadata": {},
   "outputs": [],
   "source": []
  }
 ],
 "metadata": {
  "kernelspec": {
   "display_name": "learn-env",
   "language": "python",
   "name": "learn-env"
  },
  "language_info": {
   "codemirror_mode": {
    "name": "ipython",
    "version": 3
   },
   "file_extension": ".py",
   "mimetype": "text/x-python",
   "name": "python",
   "nbconvert_exporter": "python",
   "pygments_lexer": "ipython3",
   "version": "3.6.9"
  }
 },
 "nbformat": 4,
 "nbformat_minor": 4
}
